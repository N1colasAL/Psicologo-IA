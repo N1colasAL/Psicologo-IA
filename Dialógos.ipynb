{
 "cells": [
  {
   "cell_type": "code",
   "execution_count": null,
   "metadata": {},
   "outputs": [],
   "source": [
    "Hace tres meses que apenas duermo (4–5 h), sufro ansiedad constante por mi rendimiento en el trabajo y me preocupan errores imaginarios en reuniones. Para mantenerme despierto bebo hasta 5 cafés al día y por la noche recurro al alcohol para relajarme, lo que me deja con más insomnio y nervios al día siguiente. Esto está afectando mi trabajo, mis relaciones y mi ánimo. No sé muy bien qué me pasa, pero necesito sentirme mejor."
   ]
  },
  {
   "cell_type": "code",
   "execution_count": null,
   "metadata": {},
   "outputs": [],
   "source": [
    "Además de lo que comenté, he notado que cuando me pongo ansioso mi corazón late muy rápido, sudo y a veces me cuesta respirar. Esto me ha hecho ausentarme de 3 reuniones el último mes, y he cancelado 4 salidas con amigos. Llevo así de forma casi continua desde hace 12 semanas, y ni el café ni el alcohol me alivian realmente."
   ]
  },
  {
   "cell_type": "code",
   "execution_count": null,
   "metadata": {},
   "outputs": [],
   "source": [
    "He notado que estos síntomas se repiten casi todos los días desde hace al menos tres meses. La ansiedad aparece sobre todo por las mañanas, incluso antes de empezar a trabajar, y a veces me despierto ya con taquicardia. Siento una presión constante en el pecho y una sensación de que algo va a salir mal, aunque no haya motivos concretos.\n",
    "En el trabajo tengo miedo de cometer errores mínimos. Después de las reuniones, paso horas repasando mentalmente lo que dije, convencido de que hice el ridículo o dije algo inapropiado. Esto me quita energía y concentración.\n",
    "Ya no disfruto casi nada. No tengo ganas de salir, y cuando lo hago, me siento desconectado. Siento como si estuviera en automático. Tampoco tengo apetito, he perdido unos 4 kilos, y últimamente me cuesta incluso concentrarme en una serie o leer algo.\n",
    "Lo peor es por la noche. Me acuesto cansado pero no consigo dormir más de 4 o 5 horas. Me despierto con la mente activa, pensando en todo lo que podría ir mal al día siguiente.\n",
    "Ya no sé si esto es solo estrés o algo más serio, pero siento que no puedo seguir así mucho más."
   ]
  }
 ],
 "metadata": {
  "kernelspec": {
   "display_name": "Python 3",
   "language": "python",
   "name": "python3"
  },
  "language_info": {
   "codemirror_mode": {
    "name": "ipython",
    "version": 3
   },
   "file_extension": ".py",
   "mimetype": "text/x-python",
   "name": "python",
   "nbconvert_exporter": "python",
   "pygments_lexer": "ipython3",
   "version": "3.11.6"
  }
 },
 "nbformat": 4,
 "nbformat_minor": 2
}
